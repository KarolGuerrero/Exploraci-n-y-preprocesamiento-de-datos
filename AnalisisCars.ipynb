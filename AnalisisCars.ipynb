{
 "cells": [
  {
   "cell_type": "code",
   "execution_count": 1,
   "id": "a8116e00",
   "metadata": {},
   "outputs": [
    {
     "data": {
      "text/html": [
       "<div>\n",
       "<style scoped>\n",
       "    .dataframe tbody tr th:only-of-type {\n",
       "        vertical-align: middle;\n",
       "    }\n",
       "\n",
       "    .dataframe tbody tr th {\n",
       "        vertical-align: top;\n",
       "    }\n",
       "\n",
       "    .dataframe thead th {\n",
       "        text-align: right;\n",
       "    }\n",
       "</style>\n",
       "<table border=\"1\" class=\"dataframe\">\n",
       "  <thead>\n",
       "    <tr style=\"text-align: right;\">\n",
       "      <th></th>\n",
       "      <th>displacement</th>\n",
       "      <th>cylinders</th>\n",
       "      <th>horsepower</th>\n",
       "      <th>weight</th>\n",
       "      <th>acceleration</th>\n",
       "      <th>model_year</th>\n",
       "      <th>origin</th>\n",
       "      <th>mpg</th>\n",
       "    </tr>\n",
       "  </thead>\n",
       "  <tbody>\n",
       "    <tr>\n",
       "      <th>0</th>\n",
       "      <td>307.0</td>\n",
       "      <td>8</td>\n",
       "      <td>130.0</td>\n",
       "      <td>3504</td>\n",
       "      <td>12.0</td>\n",
       "      <td>70</td>\n",
       "      <td>1</td>\n",
       "      <td>18.0</td>\n",
       "    </tr>\n",
       "    <tr>\n",
       "      <th>1</th>\n",
       "      <td>350.0</td>\n",
       "      <td>8</td>\n",
       "      <td>165.0</td>\n",
       "      <td>3693</td>\n",
       "      <td>11.5</td>\n",
       "      <td>70</td>\n",
       "      <td>1</td>\n",
       "      <td>15.0</td>\n",
       "    </tr>\n",
       "    <tr>\n",
       "      <th>2</th>\n",
       "      <td>318.0</td>\n",
       "      <td>8</td>\n",
       "      <td>150.0</td>\n",
       "      <td>3436</td>\n",
       "      <td>11.0</td>\n",
       "      <td>70</td>\n",
       "      <td>1</td>\n",
       "      <td>18.0</td>\n",
       "    </tr>\n",
       "    <tr>\n",
       "      <th>3</th>\n",
       "      <td>304.0</td>\n",
       "      <td>8</td>\n",
       "      <td>150.0</td>\n",
       "      <td>3433</td>\n",
       "      <td>12.0</td>\n",
       "      <td>70</td>\n",
       "      <td>1</td>\n",
       "      <td>16.0</td>\n",
       "    </tr>\n",
       "    <tr>\n",
       "      <th>4</th>\n",
       "      <td>302.0</td>\n",
       "      <td>8</td>\n",
       "      <td>140.0</td>\n",
       "      <td>3449</td>\n",
       "      <td>10.5</td>\n",
       "      <td>70</td>\n",
       "      <td>1</td>\n",
       "      <td>17.0</td>\n",
       "    </tr>\n",
       "  </tbody>\n",
       "</table>\n",
       "</div>"
      ],
      "text/plain": [
       "   displacement  cylinders  horsepower  weight  acceleration  model_year  \\\n",
       "0         307.0          8       130.0    3504          12.0          70   \n",
       "1         350.0          8       165.0    3693          11.5          70   \n",
       "2         318.0          8       150.0    3436          11.0          70   \n",
       "3         304.0          8       150.0    3433          12.0          70   \n",
       "4         302.0          8       140.0    3449          10.5          70   \n",
       "\n",
       "   origin   mpg  \n",
       "0       1  18.0  \n",
       "1       1  15.0  \n",
       "2       1  18.0  \n",
       "3       1  16.0  \n",
       "4       1  17.0  "
      ]
     },
     "execution_count": 1,
     "metadata": {},
     "output_type": "execute_result"
    }
   ],
   "source": [
    "from ucimlrepo import fetch_ucirepo \n",
    "import pandas as pd\n",
    "  \n",
    "auto_mpg = fetch_ucirepo(id=9) \n",
    "\n",
    "X = auto_mpg.data.features \n",
    "y = auto_mpg.data.targets \n",
    "\n",
    "df = pd.concat([X, y], axis=1)\n",
    "df.head()\n"
   ]
  },
  {
   "cell_type": "code",
   "execution_count": 2,
   "id": "0c65a372",
   "metadata": {},
   "outputs": [
    {
     "name": "stdout",
     "output_type": "stream",
     "text": [
      "<class 'pandas.core.frame.DataFrame'>\n",
      "RangeIndex: 398 entries, 0 to 397\n",
      "Data columns (total 8 columns):\n",
      " #   Column        Non-Null Count  Dtype  \n",
      "---  ------        --------------  -----  \n",
      " 0   displacement  398 non-null    float64\n",
      " 1   cylinders     398 non-null    int64  \n",
      " 2   horsepower    392 non-null    float64\n",
      " 3   weight        398 non-null    int64  \n",
      " 4   acceleration  398 non-null    float64\n",
      " 5   model_year    398 non-null    int64  \n",
      " 6   origin        398 non-null    int64  \n",
      " 7   mpg           398 non-null    float64\n",
      "dtypes: float64(4), int64(4)\n",
      "memory usage: 25.0 KB\n"
     ]
    }
   ],
   "source": [
    "df.info()"
   ]
  },
  {
   "cell_type": "code",
   "execution_count": 12,
   "id": "dc515450",
   "metadata": {},
   "outputs": [],
   "source": [
    "def outliers(df, columna_grupo, columna_valor):\n",
    "    resultados = []\n",
    "    for grupo, datos in df.groupby(columna_grupo, observed=False)[columna_valor]:\n",
    "        Q1 = datos.quantile(0.25)\n",
    "        Q3 = datos.quantile(0.75)\n",
    "        IQR = Q3 - Q1\n",
    "        limite_sup = Q3 + 1.5 * IQR\n",
    "        limite_inf = Q1 - 1.5 * IQR\n",
    "        outliers = datos[(datos < limite_inf) | (datos > limite_sup)].values\n",
    "\n",
    "        resultados.append({\n",
    "            columna_grupo: grupo,\n",
    "            \"Q1\": Q1,\n",
    "            \"Q3\": Q3,\n",
    "            \"IQR\": IQR,\n",
    "            \"outlier inferior\": limite_inf,\n",
    "            \"outlier superior\": limite_sup,\n",
    "        })\n",
    "    tabla = pd.DataFrame(resultados)\n",
    "    display(tabla)"
   ]
  },
  {
   "cell_type": "markdown",
   "id": "8993a28b",
   "metadata": {},
   "source": [
    "## ¿Cómo varía el peso de los autos a través de los años?\n"
   ]
  },
  {
   "cell_type": "code",
   "execution_count": 4,
   "id": "41d15463",
   "metadata": {},
   "outputs": [],
   "source": [
    "years = df['model_year']\n",
    "bins = [69, 72, 75, 78, 82]\n",
    "labels = ['70-72', '73-75', '76-78', '79-82']\n",
    "df['year_range'] = pd.cut(years, bins=bins, labels=labels, right=True, include_lowest=True)\n"
   ]
  },
  {
   "cell_type": "code",
   "execution_count": 33,
   "id": "89a9f9e9",
   "metadata": {},
   "outputs": [
    {
     "data": {
      "text/html": [
       "<div>\n",
       "<style scoped>\n",
       "    .dataframe tbody tr th:only-of-type {\n",
       "        vertical-align: middle;\n",
       "    }\n",
       "\n",
       "    .dataframe tbody tr th {\n",
       "        vertical-align: top;\n",
       "    }\n",
       "\n",
       "    .dataframe thead th {\n",
       "        text-align: right;\n",
       "    }\n",
       "</style>\n",
       "<table border=\"1\" class=\"dataframe\">\n",
       "  <thead>\n",
       "    <tr style=\"text-align: right;\">\n",
       "      <th></th>\n",
       "      <th>year_range</th>\n",
       "      <th>promedio_peso</th>\n",
       "      <th>min</th>\n",
       "      <th>max</th>\n",
       "    </tr>\n",
       "  </thead>\n",
       "  <tbody>\n",
       "    <tr>\n",
       "      <th>0</th>\n",
       "      <td>70-72</td>\n",
       "      <td>3203.99 ± 966.87</td>\n",
       "      <td>1613</td>\n",
       "      <td>5140</td>\n",
       "    </tr>\n",
       "    <tr>\n",
       "      <th>1</th>\n",
       "      <td>73-75</td>\n",
       "      <td>3193.49 ± 925.35</td>\n",
       "      <td>1649</td>\n",
       "      <td>4997</td>\n",
       "    </tr>\n",
       "    <tr>\n",
       "      <th>2</th>\n",
       "      <td>76-78</td>\n",
       "      <td>2975.8 ± 782.01</td>\n",
       "      <td>1795</td>\n",
       "      <td>4380</td>\n",
       "    </tr>\n",
       "    <tr>\n",
       "      <th>3</th>\n",
       "      <td>79-82</td>\n",
       "      <td>2614.35 ± 586.38</td>\n",
       "      <td>1755</td>\n",
       "      <td>4360</td>\n",
       "    </tr>\n",
       "  </tbody>\n",
       "</table>\n",
       "</div>"
      ],
      "text/plain": [
       "  year_range     promedio_peso   min   max\n",
       "0      70-72  3203.99 ± 966.87  1613  5140\n",
       "1      73-75  3193.49 ± 925.35  1649  4997\n",
       "2      76-78   2975.8 ± 782.01  1795  4380\n",
       "3      79-82  2614.35 ± 586.38  1755  4360"
      ]
     },
     "metadata": {},
     "output_type": "display_data"
    }
   ],
   "source": [
    "promedioMinMax = df.groupby('year_range', observed=False)['weight'].agg(['mean', 'std', 'min', 'max']).round(2)\n",
    "promedioMinMax['promedi_ peso'] = promedioMinMax['mean'].astype(str) + ' ± ' + promedioMinMax['std'].astype(str)\n",
    "promedioMinMax = promedioMinMax.reset_index()[['year_range',promedio_pesotd', 'min', 'max']]\n",
    "display(promedioMinMax)\n"
   ]
  },
  {
   "cell_type": "markdown",
   "id": "5474ea6c",
   "metadata": {},
   "source": [
    "El peso promedio de los autos muestra una tendencia descendente pasando de mas o menos 3200 libras a inicios de los 70 a unas 2600 libras a inicios de los 80.  \n",
    "Los valores mínimos se mantienen siempre por debajo de las 1800 libras y los valores máximos se mantienen por encima de las 4300 libras en todos los periodos, lo que indica la presencia constante tanto de modelos compactos y livianos como de modelos pesados en todas las décadas.  \n",
    "Queriendo decir, que aunque el promedio ha disminuido con el tiempo la diversidad en el peso de los vehículos ha sido amplia a través de los años 70 y 80."
   ]
  },
  {
   "cell_type": "code",
   "execution_count": 30,
   "id": "c061e577",
   "metadata": {},
   "outputs": [
    {
     "data": {
      "image/png": "[encoded data removed]",
      "text/plain": [
       "<Figure size 1800x500 with 4 Axes>"
      ]
     },
     "metadata": {},
     "output_type": "display_data"
    }
   ],
   "source": [
    "import matplotlib.pyplot as plt\n",
    "import seaborn as sns\n",
    "\n",
    "colores = {\"70-72\": \"deepskyblue\", \"73-75\": \"#63F36A\", \"76-78\": \"deeppink\", \"79-82\": \"#FFFC47\"}\n",
    "plt.figure(figsize=(18, 5))\n",
    "for i, label in enumerate(labels):\n",
    "    plt.subplot(1, len(labels), i+1)\n",
    "    datos = df[df['year_range'] == label]['weight']\n",
    "    sns.histplot(datos, bins=10, color=colores[label], edgecolor='black')\n",
    "    plt.title(f'Peso: {label}')\n",
    "    plt.xlabel('Peso')\n",
    "    plt.ylabel('Frecuencia')\n",
    "plt.tight_layout()\n",
    "plt.show()\n"
   ]
  },
  {
   "cell_type": "markdown",
   "id": "9035fbdd",
   "metadata": {},
   "source": [
    "**Análisis histograma**  \n",
    "A traves de los años el peso de los autos ha disminuido mas exactamente en los modelos pertenecientes al rango 79-82, tratando de mostrar una distribución sesgada a la izquierda, es decir que su moda se encuentra en los pesos iniciales y a traves de que el peso aumenta la frecuencia disminuye.  \n",
    "En los periodos iniciales 70-75 se observa una distribución más amplia con una presencia considerable de vehículos pesados que superan las 4000 lbs.  \n",
    "A partir del periodo 76-78 la concentración comienza a desplazarse hacia pesos intermedios.\n",
    " \n",
    "Se puede decir, que con el tiempo ha habido una clara tendencia hacia vehículos más ligeros probablemente impulsada por cambios en diseño, consumo de combustible o tener un carro más agil.\n"
   ]
  },
  {
   "cell_type": "code",
   "execution_count": 13,
   "id": "477875bd",
   "metadata": {},
   "outputs": [
    {
     "data": {
      "text/html": [
       "<div>\n",
       "<style scoped>\n",
       "    .dataframe tbody tr th:only-of-type {\n",
       "        vertical-align: middle;\n",
       "    }\n",
       "\n",
       "    .dataframe tbody tr th {\n",
       "        vertical-align: top;\n",
       "    }\n",
       "\n",
       "    .dataframe thead th {\n",
       "        text-align: right;\n",
       "    }\n",
       "</style>\n",
       "<table border=\"1\" class=\"dataframe\">\n",
       "  <thead>\n",
       "    <tr style=\"text-align: right;\">\n",
       "      <th></th>\n",
       "      <th>year_range</th>\n",
       "      <th>Q1</th>\n",
       "      <th>Q3</th>\n",
       "      <th>IQR</th>\n",
       "      <th>outlier inferior</th>\n",
       "      <th>outlier superior</th>\n",
       "    </tr>\n",
       "  </thead>\n",
       "  <tbody>\n",
       "    <tr>\n",
       "      <th>0</th>\n",
       "      <td>70-72</td>\n",
       "      <td>2278.0</td>\n",
       "      <td>4135.00</td>\n",
       "      <td>1857.00</td>\n",
       "      <td>-507.500</td>\n",
       "      <td>6920.500</td>\n",
       "    </tr>\n",
       "    <tr>\n",
       "      <th>1</th>\n",
       "      <td>73-75</td>\n",
       "      <td>2401.0</td>\n",
       "      <td>3907.00</td>\n",
       "      <td>1506.00</td>\n",
       "      <td>142.000</td>\n",
       "      <td>6166.000</td>\n",
       "    </tr>\n",
       "    <tr>\n",
       "      <th>2</th>\n",
       "      <td>76-78</td>\n",
       "      <td>2206.5</td>\n",
       "      <td>3573.00</td>\n",
       "      <td>1366.50</td>\n",
       "      <td>156.750</td>\n",
       "      <td>5622.750</td>\n",
       "    </tr>\n",
       "    <tr>\n",
       "      <th>3</th>\n",
       "      <td>79-82</td>\n",
       "      <td>2130.0</td>\n",
       "      <td>2941.25</td>\n",
       "      <td>811.25</td>\n",
       "      <td>913.125</td>\n",
       "      <td>4158.125</td>\n",
       "    </tr>\n",
       "  </tbody>\n",
       "</table>\n",
       "</div>"
      ],
      "text/plain": [
       "  year_range      Q1       Q3      IQR  outlier inferior  outlier superior\n",
       "0      70-72  2278.0  4135.00  1857.00          -507.500          6920.500\n",
       "1      73-75  2401.0  3907.00  1506.00           142.000          6166.000\n",
       "2      76-78  2206.5  3573.00  1366.50           156.750          5622.750\n",
       "3      79-82  2130.0  2941.25   811.25           913.125          4158.125"
      ]
     },
     "metadata": {},
     "output_type": "display_data"
    }
   ],
   "source": [
    "outliers(df, 'year_range', 'weight')"
   ]
  },
  {
   "cell_type": "code",
   "execution_count": 35,
   "id": "b07879d5",
   "metadata": {},
   "outputs": [
    {
     "data": {
      "image/png": "[encoded data removed]",
      "text/plain": [
       "<Figure size 800x500 with 1 Axes>"
      ]
     },
     "metadata": {},
     "output_type": "display_data"
    }
   ],
   "source": [
    "plt.figure(figsize=(8, 5))\n",
    "sns.boxplot(data=df, x='year_range', y='weight', hue='year_range', palette=colores, showfliers=False, legend=False)\n",
    "plt.title('Boxplot del peso por rango de años')\n",
    "plt.xlabel('Rango de años')\n",
    "plt.ylabel('Peso')\n",
    "plt.show()"
   ]
  },
  {
   "cell_type": "markdown",
   "id": "5fbe630b",
   "metadata": {},
   "source": [
    "**Análisis boxplot**  \n",
    "A lo largo de los años tanto la mediana como la dispersión del peso de los autos han disminuido de forma constante.\n",
    "En el periodo 70-72 la mayoría de los vehículos se encontraban entre aproximadamente 2300 y 4100 libras, mientras que para 79-82 este rango se redujo a entre 2100 y 2940 libras, indicando una clara disminución del peso de los vehiculos.\n",
    "A pesar de ello, en todos los periodos se observan valores atípicos superiores lo que muestra la presencia de modelos considerablemente más pesados que el promedio."
   ]
  },
  {
   "cell_type": "markdown",
   "id": "4e4ee20e",
   "metadata": {},
   "source": [
    "### Conclusión\n",
    "El peso de los autos ha mostrado una reducción progresiva desde principios de los 70 hasta inicios de los 80, pasando de promedios superiores a las 3200 lbs a unos aproximadamente en 2600 lbs, evidenciando pesos mas ligeros a medida que los años pasan.  \n",
    "Aunque esta tendencia refleja un cambio hacia vehículos más eficientes y posiblemente más ágiles, en todos los periodos se mantuvo una diversidad considerable, con la presencia constante de modelos pesados que superan las 4000 lbs lo que muestra que la transición no fue uniforme para todos los rangos de modelos."
   ]
  }
 ],
 "metadata": {
  "kernelspec": {
   "display_name": "Entorno",
   "language": "python",
   "name": "python3"
  },
  "language_info": {
   "codemirror_mode": {
    "name": "ipython",
    "version": 3
   },
   "file_extension": ".py",
   "mimetype": "text/x-python",
   "name": "python",
   "nbconvert_exporter": "python",
   "pygments_lexer": "ipython3",
   "version": "3.12.9"
  }
 },
 "nbformat": 4,
 "nbformat_minor": 5
}
