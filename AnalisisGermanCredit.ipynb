{
 "cells": [
  {
   "cell_type": "code",
   "execution_count": 107,
   "id": "dd2adbf0",
   "metadata": {},
   "outputs": [
    {
     "data": {
      "text/html": [
       "<div>\n",
       "<style scoped>\n",
       "    .dataframe tbody tr th:only-of-type {\n",
       "        vertical-align: middle;\n",
       "    }\n",
       "\n",
       "    .dataframe tbody tr th {\n",
       "        vertical-align: top;\n",
       "    }\n",
       "\n",
       "    .dataframe thead th {\n",
       "        text-align: right;\n",
       "    }\n",
       "</style>\n",
       "<table border=\"1\" class=\"dataframe\">\n",
       "  <thead>\n",
       "    <tr style=\"text-align: right;\">\n",
       "      <th></th>\n",
       "      <th>id</th>\n",
       "      <th>Age</th>\n",
       "      <th>Sex</th>\n",
       "      <th>Job</th>\n",
       "      <th>Housing</th>\n",
       "      <th>Saving_accounts</th>\n",
       "      <th>Checking_account</th>\n",
       "      <th>Credit_amount</th>\n",
       "      <th>Duration</th>\n",
       "      <th>Purpose</th>\n",
       "      <th>Risk</th>\n",
       "    </tr>\n",
       "  </thead>\n",
       "  <tbody>\n",
       "    <tr>\n",
       "      <th>0</th>\n",
       "      <td>0</td>\n",
       "      <td>67</td>\n",
       "      <td>male</td>\n",
       "      <td>2</td>\n",
       "      <td>own</td>\n",
       "      <td>NaN</td>\n",
       "      <td>little</td>\n",
       "      <td>1169</td>\n",
       "      <td>6</td>\n",
       "      <td>radio/TV</td>\n",
       "      <td>good</td>\n",
       "    </tr>\n",
       "    <tr>\n",
       "      <th>1</th>\n",
       "      <td>1</td>\n",
       "      <td>22</td>\n",
       "      <td>female</td>\n",
       "      <td>2</td>\n",
       "      <td>own</td>\n",
       "      <td>little</td>\n",
       "      <td>moderate</td>\n",
       "      <td>5951</td>\n",
       "      <td>48</td>\n",
       "      <td>radio/TV</td>\n",
       "      <td>bad</td>\n",
       "    </tr>\n",
       "    <tr>\n",
       "      <th>2</th>\n",
       "      <td>2</td>\n",
       "      <td>49</td>\n",
       "      <td>male</td>\n",
       "      <td>1</td>\n",
       "      <td>own</td>\n",
       "      <td>little</td>\n",
       "      <td>NaN</td>\n",
       "      <td>2096</td>\n",
       "      <td>12</td>\n",
       "      <td>education</td>\n",
       "      <td>good</td>\n",
       "    </tr>\n",
       "    <tr>\n",
       "      <th>3</th>\n",
       "      <td>3</td>\n",
       "      <td>45</td>\n",
       "      <td>male</td>\n",
       "      <td>2</td>\n",
       "      <td>free</td>\n",
       "      <td>little</td>\n",
       "      <td>little</td>\n",
       "      <td>7882</td>\n",
       "      <td>42</td>\n",
       "      <td>furniture/equipment</td>\n",
       "      <td>good</td>\n",
       "    </tr>\n",
       "    <tr>\n",
       "      <th>4</th>\n",
       "      <td>4</td>\n",
       "      <td>53</td>\n",
       "      <td>male</td>\n",
       "      <td>2</td>\n",
       "      <td>free</td>\n",
       "      <td>little</td>\n",
       "      <td>little</td>\n",
       "      <td>4870</td>\n",
       "      <td>24</td>\n",
       "      <td>car</td>\n",
       "      <td>bad</td>\n",
       "    </tr>\n",
       "  </tbody>\n",
       "</table>\n",
       "</div>"
      ],
      "text/plain": [
       "   id  Age     Sex  Job Housing Saving_accounts Checking_account  \\\n",
       "0   0   67    male    2     own             NaN           little   \n",
       "1   1   22  female    2     own          little         moderate   \n",
       "2   2   49    male    1     own          little              NaN   \n",
       "3   3   45    male    2    free          little           little   \n",
       "4   4   53    male    2    free          little           little   \n",
       "\n",
       "   Credit_amount  Duration              Purpose  Risk  \n",
       "0           1169         6             radio/TV  good  \n",
       "1           5951        48             radio/TV   bad  \n",
       "2           2096        12            education  good  \n",
       "3           7882        42  furniture/equipment  good  \n",
       "4           4870        24                  car   bad  "
      ]
     },
     "execution_count": 107,
     "metadata": {},
     "output_type": "execute_result"
    }
   ],
   "source": [
    "import pandas as pd\n",
    "\n",
    "df = pd.read_csv('https://raw.githubusercontent.com/camilousa/datasets/master/german_credit_data(2)(1).csv')\n",
    "\n",
    "df.head()"
   ]
  },
  {
   "cell_type": "code",
   "execution_count": 108,
   "id": "c9cbb15b",
   "metadata": {},
   "outputs": [
    {
     "name": "stdout",
     "output_type": "stream",
     "text": [
      "<class 'pandas.core.frame.DataFrame'>\n",
      "RangeIndex: 1000 entries, 0 to 999\n",
      "Data columns (total 11 columns):\n",
      " #   Column            Non-Null Count  Dtype \n",
      "---  ------            --------------  ----- \n",
      " 0   id                1000 non-null   int64 \n",
      " 1   Age               1000 non-null   int64 \n",
      " 2   Sex               1000 non-null   object\n",
      " 3   Job               1000 non-null   int64 \n",
      " 4   Housing           1000 non-null   object\n",
      " 5   Saving_accounts   817 non-null    object\n",
      " 6   Checking_account  606 non-null    object\n",
      " 7   Credit_amount     1000 non-null   int64 \n",
      " 8   Duration          1000 non-null   int64 \n",
      " 9   Purpose           1000 non-null   object\n",
      " 10  Risk              1000 non-null   object\n",
      "dtypes: int64(5), object(6)\n",
      "memory usage: 86.1+ KB\n"
     ]
    }
   ],
   "source": [
    "df.info()"
   ]
  },
  {
   "cell_type": "markdown",
   "id": "3a9f340c",
   "metadata": {},
   "source": [
    "##  ¿Existen diferencias significativas en el monto y duración de los créditos entre hombres y mujeres?"
   ]
  },
  {
   "cell_type": "code",
   "execution_count": 109,
   "id": "da67de49",
   "metadata": {},
   "outputs": [
    {
     "data": {
      "text/html": [
       "<div>\n",
       "<style scoped>\n",
       "    .dataframe tbody tr th:only-of-type {\n",
       "        vertical-align: middle;\n",
       "    }\n",
       "\n",
       "    .dataframe tbody tr th {\n",
       "        vertical-align: top;\n",
       "    }\n",
       "\n",
       "    .dataframe thead th {\n",
       "        text-align: right;\n",
       "    }\n",
       "</style>\n",
       "<table border=\"1\" class=\"dataframe\">\n",
       "  <thead>\n",
       "    <tr style=\"text-align: right;\">\n",
       "      <th></th>\n",
       "      <th>Sex</th>\n",
       "      <th>Credit_amount</th>\n",
       "    </tr>\n",
       "  </thead>\n",
       "  <tbody>\n",
       "    <tr>\n",
       "      <th>0</th>\n",
       "      <td>female</td>\n",
       "      <td>310</td>\n",
       "    </tr>\n",
       "    <tr>\n",
       "      <th>1</th>\n",
       "      <td>male</td>\n",
       "      <td>690</td>\n",
       "    </tr>\n",
       "  </tbody>\n",
       "</table>\n",
       "</div>"
      ],
      "text/plain": [
       "      Sex  Credit_amount\n",
       "0  female            310\n",
       "1    male            690"
      ]
     },
     "metadata": {},
     "output_type": "display_data"
    }
   ],
   "source": [
    "count_sex = df.groupby(\"Sex\")[[\"Credit_amount\"]].agg(\"count\")\n",
    "count_sex = count_sex.reset_index() \n",
    "display(count_sex)"
   ]
  },
  {
   "cell_type": "markdown",
   "id": "1042a52d",
   "metadata": {},
   "source": [
    "El conteo de registros por género en la variable *Credit_amount* muestra una gran diferecia en el número de registros, esto puede reflejar que el 69%creditos fueron solicitados por hombres y tan solo el 31% por mujeres. Esta diferencia puede estar relacionada con factores demográficos, socioculturales o económicos que influyen en el acceso y la demanda de productos financieros."
   ]
  },
  {
   "cell_type": "code",
   "execution_count": 110,
   "id": "24f29b10",
   "metadata": {},
   "outputs": [
    {
     "data": {
      "text/html": [
       "<div>\n",
       "<style scoped>\n",
       "    .dataframe tbody tr th:only-of-type {\n",
       "        vertical-align: middle;\n",
       "    }\n",
       "\n",
       "    .dataframe tbody tr th {\n",
       "        vertical-align: top;\n",
       "    }\n",
       "\n",
       "    .dataframe thead th {\n",
       "        text-align: right;\n",
       "    }\n",
       "</style>\n",
       "<table border=\"1\" class=\"dataframe\">\n",
       "  <thead>\n",
       "    <tr style=\"text-align: right;\">\n",
       "      <th></th>\n",
       "      <th>Sex</th>\n",
       "      <th>Credit_amount_mean</th>\n",
       "      <th>Credit_amount_std</th>\n",
       "      <th>Duration_mean</th>\n",
       "      <th>Duration_std</th>\n",
       "    </tr>\n",
       "  </thead>\n",
       "  <tbody>\n",
       "    <tr>\n",
       "      <th>0</th>\n",
       "      <td>female</td>\n",
       "      <td>2877.774194</td>\n",
       "      <td>2603.141613</td>\n",
       "      <td>19.43871</td>\n",
       "      <td>11.048047</td>\n",
       "    </tr>\n",
       "    <tr>\n",
       "      <th>1</th>\n",
       "      <td>male</td>\n",
       "      <td>3448.040580</td>\n",
       "      <td>2900.483807</td>\n",
       "      <td>21.56087</td>\n",
       "      <td>12.437941</td>\n",
       "    </tr>\n",
       "  </tbody>\n",
       "</table>\n",
       "</div>"
      ],
      "text/plain": [
       "      Sex  Credit_amount_mean  Credit_amount_std  Duration_mean  Duration_std\n",
       "0  female         2877.774194        2603.141613       19.43871     11.048047\n",
       "1    male         3448.040580        2900.483807       21.56087     12.437941"
      ]
     },
     "metadata": {},
     "output_type": "display_data"
    }
   ],
   "source": [
    "promedios = df.groupby(\"Sex\")[[\"Credit_amount\", \"Duration\"]].agg([\"mean\", \"std\"])\n",
    "promedios.columns = ['_'.join(col) for col in promedios.columns]\n",
    "promedios = promedios.reset_index()  \n",
    "display(promedios)\n",
    "\n",
    "\n"
   ]
  },
  {
   "cell_type": "markdown",
   "id": "29d8d8d2",
   "metadata": {},
   "source": [
    "Los datos muestran que los hombres solicitan en promedio créditos más altos que las mujeres, lo que equivale aproximadamente a un 19.8% más que las mujeres y también a plazos más largos con una diferencia del 10.9%. Además, la variabilidad en las solicitudes masculinas es mayor con desviaciones estándar más altas tanto en el monto como en la duración, esto quiere decir que tienden a pedir más dinero, con mayor duración y con una mayor diversidad en los valores solicitados."
   ]
  },
  {
   "cell_type": "code",
   "execution_count": 111,
   "id": "c0dbf3a0",
   "metadata": {},
   "outputs": [],
   "source": [
    "def outliers(df, columna_grupo, columna_valor):\n",
    "    resultados = []\n",
    "    for grupo, datos in df.groupby(columna_grupo)[columna_valor]:\n",
    "        Q1 = datos.quantile(0.25)\n",
    "        Q3 = datos.quantile(0.75)\n",
    "        IQR = Q3 - Q1\n",
    "        limite_sup = Q3 + 1.5 * IQR\n",
    "        limite_inf = Q1 - 1.5 * IQR\n",
    "        outliers = datos[(datos < limite_inf) | (datos > limite_sup)].values\n",
    "\n",
    "        resultados.append({\n",
    "            columna_grupo: grupo,\n",
    "            \"Q1\": Q1,\n",
    "            \"Q3\": Q3,\n",
    "            \"IQR\": IQR,\n",
    "            \"outlier inferior\": limite_inf,\n",
    "            \"outlier superior\": limite_sup,\n",
    "        })\n",
    "    tabla = pd.DataFrame(resultados)\n",
    "    display(tabla)"
   ]
  },
  {
   "cell_type": "code",
   "execution_count": 112,
   "id": "377109e8",
   "metadata": {},
   "outputs": [
    {
     "data": {
      "text/html": [
       "<div>\n",
       "<style scoped>\n",
       "    .dataframe tbody tr th:only-of-type {\n",
       "        vertical-align: middle;\n",
       "    }\n",
       "\n",
       "    .dataframe tbody tr th {\n",
       "        vertical-align: top;\n",
       "    }\n",
       "\n",
       "    .dataframe thead th {\n",
       "        text-align: right;\n",
       "    }\n",
       "</style>\n",
       "<table border=\"1\" class=\"dataframe\">\n",
       "  <thead>\n",
       "    <tr style=\"text-align: right;\">\n",
       "      <th></th>\n",
       "      <th>Sex</th>\n",
       "      <th>Q1</th>\n",
       "      <th>Q3</th>\n",
       "      <th>IQR</th>\n",
       "      <th>outlier inferior</th>\n",
       "      <th>outlier superior</th>\n",
       "    </tr>\n",
       "  </thead>\n",
       "  <tbody>\n",
       "    <tr>\n",
       "      <th>0</th>\n",
       "      <td>female</td>\n",
       "      <td>1247.5</td>\n",
       "      <td>3606.50</td>\n",
       "      <td>2359.00</td>\n",
       "      <td>-2291.000</td>\n",
       "      <td>7145.000</td>\n",
       "    </tr>\n",
       "    <tr>\n",
       "      <th>1</th>\n",
       "      <td>male</td>\n",
       "      <td>1442.5</td>\n",
       "      <td>4266.25</td>\n",
       "      <td>2823.75</td>\n",
       "      <td>-2793.125</td>\n",
       "      <td>8501.875</td>\n",
       "    </tr>\n",
       "  </tbody>\n",
       "</table>\n",
       "</div>"
      ],
      "text/plain": [
       "      Sex      Q1       Q3      IQR  outlier inferior  outlier superior\n",
       "0  female  1247.5  3606.50  2359.00         -2291.000          7145.000\n",
       "1    male  1442.5  4266.25  2823.75         -2793.125          8501.875"
      ]
     },
     "metadata": {},
     "output_type": "display_data"
    }
   ],
   "source": [
    "outliers(df, \"Sex\", \"Credit_amount\")"
   ]
  },
  {
   "cell_type": "code",
   "execution_count": 113,
   "id": "de7f35a7",
   "metadata": {},
   "outputs": [
    {
     "data": {
      "image/png": "[encoded data removed]",
      "text/plain": [
       "<Figure size 1600x500 with 2 Axes>"
      ]
     },
     "metadata": {},
     "output_type": "display_data"
    }
   ],
   "source": [
    "import matplotlib.pyplot as plt\n",
    "import seaborn as sns\n",
    "\n",
    "fig, axes = plt.subplots(1, 2, figsize=(16, 5))\n",
    "\n",
    "sns.histplot(data=df, \n",
    "             x='Credit_amount', \n",
    "             hue=\"Sex\", \n",
    "             kde=True, \n",
    "             ax=axes[0], \n",
    "             hue_order=[\"female\", \"male\"],palette={\"female\": \"deeppink\",\"male\": \"deepskyblue\"}, \n",
    "             edgecolor='black'\n",
    ")\n",
    "\n",
    "sns.boxplot(\n",
    "    data=df,\n",
    "    x='Sex',\n",
    "    y='Credit_amount',\n",
    "    hue='Sex', \n",
    "    ax=axes[1],\n",
    "    showfliers=False,\n",
    "    palette={\"male\": \"deepskyblue\", \"female\": \"deeppink\"},\n",
    "    legend=False  \n",
    ")\n",
    "\n",
    "plt.suptitle('Credit Amount Distribution by Gender', fontsize=16)\n",
    "plt.show()\n",
    "\n",
    "\n"
   ]
  },
  {
   "cell_type": "markdown",
   "id": "73d51dd1",
   "metadata": {},
   "source": [
    "El histograma muestra que los hombres tienden a solicitar montos de crédito más altos y con una distribución más dispersa en comparación con las mujeres. Se peude ver que los dos generos concentran la mayor parte de solicitudes en rangos bajos alrededor de 1,000 a 3,000, pero la curva masculina presenta una cola más larga hacia montos elevados, indicando que los créditos mas altos se encuentran principalmente en hombres.\n",
    "\n",
    "El diagrama de caja confirma que la mediana del monto solicitado por hombres es mayor que la de las mujeres y que su rango intercuartílico es más amplio además de tener valores atípicos más altos, lo que confirma lo dicho anteriormente que existe una mayor variabilidad y presencia de solicitudes de crédito de alto valor en hombres."
   ]
  },
  {
   "cell_type": "code",
   "execution_count": 114,
   "id": "99109157",
   "metadata": {},
   "outputs": [
    {
     "data": {
      "text/html": [
       "<div>\n",
       "<style scoped>\n",
       "    .dataframe tbody tr th:only-of-type {\n",
       "        vertical-align: middle;\n",
       "    }\n",
       "\n",
       "    .dataframe tbody tr th {\n",
       "        vertical-align: top;\n",
       "    }\n",
       "\n",
       "    .dataframe thead th {\n",
       "        text-align: right;\n",
       "    }\n",
       "</style>\n",
       "<table border=\"1\" class=\"dataframe\">\n",
       "  <thead>\n",
       "    <tr style=\"text-align: right;\">\n",
       "      <th></th>\n",
       "      <th>Sex</th>\n",
       "      <th>Q1</th>\n",
       "      <th>Q3</th>\n",
       "      <th>IQR</th>\n",
       "      <th>outlier inferior</th>\n",
       "      <th>outlier superior</th>\n",
       "    </tr>\n",
       "  </thead>\n",
       "  <tbody>\n",
       "    <tr>\n",
       "      <th>0</th>\n",
       "      <td>female</td>\n",
       "      <td>12.0</td>\n",
       "      <td>24.0</td>\n",
       "      <td>12.0</td>\n",
       "      <td>-6.0</td>\n",
       "      <td>42.0</td>\n",
       "    </tr>\n",
       "    <tr>\n",
       "      <th>1</th>\n",
       "      <td>male</td>\n",
       "      <td>12.0</td>\n",
       "      <td>27.0</td>\n",
       "      <td>15.0</td>\n",
       "      <td>-10.5</td>\n",
       "      <td>49.5</td>\n",
       "    </tr>\n",
       "  </tbody>\n",
       "</table>\n",
       "</div>"
      ],
      "text/plain": [
       "      Sex    Q1    Q3   IQR  outlier inferior  outlier superior\n",
       "0  female  12.0  24.0  12.0              -6.0              42.0\n",
       "1    male  12.0  27.0  15.0             -10.5              49.5"
      ]
     },
     "metadata": {},
     "output_type": "display_data"
    }
   ],
   "source": [
    "outliers(df, \"Sex\", \"Duration\")"
   ]
  },
  {
   "cell_type": "code",
   "execution_count": 115,
   "id": "6579af23",
   "metadata": {},
   "outputs": [
    {
     "data": {
      "image/png": "[encoded data removed]",
      "text/plain": [
       "<Figure size 1600x500 with 2 Axes>"
      ]
     },
     "metadata": {},
     "output_type": "display_data"
    }
   ],
   "source": [
    "fig, axes = plt.subplots(1, 2, figsize=(16, 5))\n",
    "\n",
    "sns.histplot(data=df, \n",
    "             x='Duration', \n",
    "             hue=\"Sex\", \n",
    "             kde=True, \n",
    "             ax=axes[0],\n",
    "             hue_order=[\"female\", \"male\"], \n",
    "             palette={\"male\": \"deepskyblue\", \"female\": \"deeppink\"}, \n",
    "             edgecolor='black'\n",
    ")\n",
    "sns.boxplot(data=df, \n",
    "            x='Duration', \n",
    "            y='Sex', \n",
    "            hue=\"Sex\", \n",
    "            ax=axes[1], \n",
    "            showfliers=False, \n",
    "            palette={\"male\": \"deepskyblue\", \"female\": \"deeppink\"})\n",
    "\n",
    "plt.suptitle('Duration Distribution by Gender', fontsize=20)\n",
    "plt.show()"
   ]
  },
  {
   "cell_type": "markdown",
   "id": "e01ca6f8",
   "metadata": {},
   "source": [
    "La distribución de la duración de los créditos muestra que tanto hombres como mujeres tienen sus solicitudes en plazos cortos y medianos entre 6 y 24 meses, pero los hombres presentan una mayor dispersión y un rango más amplio. El histograma evidencia que, aunque la mayor frecuencia para ambos sexos está en plazos cercanos a 12 y 24 meses, los hombres tienen más casos en plazos largos incluso superiores a 40 meses. \n",
    "\n",
    "El diagrama de caja confirma que la mediana de duración es un poco mayor en hombres, con un rango intercuartílico más amplio y valores atípicos que alcanzan duraciones mucho mayores que en las mujeres. Es decir, que los hombres tienden a solicitar créditos a plazos más prolongados y variados.\n"
   ]
  },
  {
   "cell_type": "markdown",
   "id": "598001e2",
   "metadata": {},
   "source": [
    "### **Conclusión:**\n",
    "\n",
    "Si existen diferencias significativas en el monto y la duración de los créditos solicitados por hombres y mujeres. Los hombres son más activos en la solicitud de créditos, también tienden a solicitar montos y plazos más altos con una mayor variabilidad en ambos aspectos. Mientras que las mujeres presentan patrones más moderados en las solicitudes que realizan. Se puede inferir que las diferencias pueden estar asociadas a factores socioeconómicos, culturales y la actividad en la vida acrediticia. En conclusión, el género sí influye de manera significativa en el comportamiento crediticio dentro del conjunto de datos analizados.\n"
   ]
  },
  {
   "cell_type": "markdown",
   "id": "6b1425b7",
   "metadata": {},
   "source": [
    "## ¿Qué categorías de cuenta corriente son más frecuentes en los distintos rangos de edad?"
   ]
  },
  {
   "cell_type": "code",
   "execution_count": 121,
   "id": "029db54f",
   "metadata": {},
   "outputs": [
    {
     "data": {
      "text/html": [
       "<div>\n",
       "<style scoped>\n",
       "    .dataframe tbody tr th:only-of-type {\n",
       "        vertical-align: middle;\n",
       "    }\n",
       "\n",
       "    .dataframe tbody tr th {\n",
       "        vertical-align: top;\n",
       "    }\n",
       "\n",
       "    .dataframe thead th {\n",
       "        text-align: right;\n",
       "    }\n",
       "</style>\n",
       "<table border=\"1\" class=\"dataframe\">\n",
       "  <thead>\n",
       "    <tr style=\"text-align: right;\">\n",
       "      <th>Age_range</th>\n",
       "      <th>19-29</th>\n",
       "      <th>30-39</th>\n",
       "      <th>40-49</th>\n",
       "      <th>50-59</th>\n",
       "      <th>60-69</th>\n",
       "      <th>70-79</th>\n",
       "    </tr>\n",
       "  </thead>\n",
       "  <tbody>\n",
       "    <tr>\n",
       "      <th>little</th>\n",
       "      <td>115</td>\n",
       "      <td>73</td>\n",
       "      <td>49</td>\n",
       "      <td>23</td>\n",
       "      <td>12</td>\n",
       "      <td>2</td>\n",
       "    </tr>\n",
       "    <tr>\n",
       "      <th>moderate</th>\n",
       "      <td>112</td>\n",
       "      <td>93</td>\n",
       "      <td>38</td>\n",
       "      <td>12</td>\n",
       "      <td>12</td>\n",
       "      <td>2</td>\n",
       "    </tr>\n",
       "    <tr>\n",
       "      <th>rich</th>\n",
       "      <td>24</td>\n",
       "      <td>17</td>\n",
       "      <td>13</td>\n",
       "      <td>5</td>\n",
       "      <td>3</td>\n",
       "      <td>1</td>\n",
       "    </tr>\n",
       "  </tbody>\n",
       "</table>\n",
       "</div>"
      ],
      "text/plain": [
       "Age_range  19-29  30-39  40-49  50-59  60-69  70-79\n",
       "little       115     73     49     23     12      2\n",
       "moderate     112     93     38     12     12      2\n",
       "rich          24     17     13      5      3      1"
      ]
     },
     "metadata": {},
     "output_type": "display_data"
    }
   ],
   "source": [
    "bins = [19, 29, 39, 49, 59, 69, 79]\n",
    "labels = ['19-29', '30-39', '40-49', '50-59', '60-69', '70-79']\n",
    "df['Age_range'] = pd.cut(df['Age'], bins=bins, labels=labels, right=True, include_lowest=True)\n",
    "count_table = df.groupby(['Checking_account', 'Age_range'], observed=False).size().unstack('Age_range', fill_value=0)\n",
    "count_table.index.name = None\n",
    "display(count_table)"
   ]
  },
  {
   "cell_type": "markdown",
   "id": "f2f248d0",
   "metadata": {},
   "source": [
    "La mayoría de personas en todos los rangos de edad tienen cuentas tipo little, mientras que son pocas las personas con cuenta corriente de tipo rich. El rango de edad de 30-39 años destaca por tener mayor cantidad de cuentas moderate que little algo que no ocurre en otros rangos. Los jóvenes mas o menos contemplado entre 18-39 tienen la mayor parte de la población y se evidencia un balance con poca diferencia entre little y moderate, por otro lado en edades mayores la cantidad total disminuye y la distribución es más equilibrada aunque la categoría rich sigue siendo el que menos poblacion tiene en todos los tipos de cuenta."
   ]
  },
  {
   "cell_type": "code",
   "execution_count": 117,
   "id": "bc6a3c5c",
   "metadata": {},
   "outputs": [
    {
     "data": {
      "text/html": [
       "<div>\n",
       "<style scoped>\n",
       "    .dataframe tbody tr th:only-of-type {\n",
       "        vertical-align: middle;\n",
       "    }\n",
       "\n",
       "    .dataframe tbody tr th {\n",
       "        vertical-align: top;\n",
       "    }\n",
       "\n",
       "    .dataframe thead th {\n",
       "        text-align: right;\n",
       "    }\n",
       "</style>\n",
       "<table border=\"1\" class=\"dataframe\">\n",
       "  <thead>\n",
       "    <tr style=\"text-align: right;\">\n",
       "      <th>Age_range</th>\n",
       "      <th>19-29</th>\n",
       "      <th>30-39</th>\n",
       "      <th>40-49</th>\n",
       "      <th>50-59</th>\n",
       "      <th>60-69</th>\n",
       "      <th>70-79</th>\n",
       "    </tr>\n",
       "  </thead>\n",
       "  <tbody>\n",
       "    <tr>\n",
       "      <th>little</th>\n",
       "      <td>24.9 ± 2.57</td>\n",
       "      <td>34.1 ± 3.0</td>\n",
       "      <td>44.1 ± 2.84</td>\n",
       "      <td>54.35 ± 2.72</td>\n",
       "      <td>64.08 ± 2.47</td>\n",
       "      <td>75.0 ± 0.0</td>\n",
       "    </tr>\n",
       "    <tr>\n",
       "      <th>moderate</th>\n",
       "      <td>25.08 ± 2.52</td>\n",
       "      <td>33.84 ± 2.8</td>\n",
       "      <td>43.66 ± 3.13</td>\n",
       "      <td>53.92 ± 3.32</td>\n",
       "      <td>63.5 ± 3.12</td>\n",
       "      <td>72.0 ± 2.83</td>\n",
       "    </tr>\n",
       "    <tr>\n",
       "      <th>rich</th>\n",
       "      <td>25.54 ± 2.3</td>\n",
       "      <td>35.24 ± 2.41</td>\n",
       "      <td>45.62 ± 3.07</td>\n",
       "      <td>53.8 ± 3.11</td>\n",
       "      <td>65.0 ± 1.73</td>\n",
       "      <td>74.0 ± nan</td>\n",
       "    </tr>\n",
       "  </tbody>\n",
       "</table>\n",
       "</div>"
      ],
      "text/plain": [
       "Age_range         19-29         30-39         40-49         50-59  \\\n",
       "little      24.9 ± 2.57    34.1 ± 3.0   44.1 ± 2.84  54.35 ± 2.72   \n",
       "moderate   25.08 ± 2.52   33.84 ± 2.8  43.66 ± 3.13  53.92 ± 3.32   \n",
       "rich        25.54 ± 2.3  35.24 ± 2.41  45.62 ± 3.07   53.8 ± 3.11   \n",
       "\n",
       "Age_range         60-69        70-79  \n",
       "little     64.08 ± 2.47   75.0 ± 0.0  \n",
       "moderate    63.5 ± 3.12  72.0 ± 2.83  \n",
       "rich        65.0 ± 1.73   74.0 ± nan  "
      ]
     },
     "metadata": {},
     "output_type": "display_data"
    }
   ],
   "source": [
    "\n",
    "stats = df.groupby(['Age_range', 'Checking_account'], observed=False)['Age'].agg(['mean', 'std']).round(2)\n",
    "stats['mean_std'] = stats['mean'].astype(str) + ' ± ' + stats['std'].astype(str)\n",
    "stats_pivot = stats['mean_std'].unstack('Age_range', fill_value='')\n",
    "stats_pivot.index.name = None\n",
    "display(stats_pivot)"
   ]
  },
  {
   "cell_type": "markdown",
   "id": "0a87d2f7",
   "metadata": {},
   "source": [
    "Dentro de cada rango las personas con cuentas little, moderate o rich tienen edades muy similares; por ejemplo, en 18-29 están cerca de los 25 años, en 40-49 están sobre los 44-46 años y en 60-69 alcanzan los 63-66 años, lo que indica que el tipo de cuenta no depende tanto de la edad sino posiblemente de otros factores como ingresos, tipos de trabajo o hábitos financieros."
   ]
  },
  {
   "cell_type": "code",
   "execution_count": 118,
   "id": "201a844c",
   "metadata": {},
   "outputs": [
    {
     "data": {
      "image/png": "[encoded data removed]",
      "text/plain": [
       "<Figure size 1800x500 with 3 Axes>"
      ]
     },
     "metadata": {},
     "output_type": "display_data"
    }
   ],
   "source": [
    "\n",
    "colores = {\"little\": \"deepskyblue\", \"moderate\": \"deeppink\", \"rich\": \"#63F36A\"}\n",
    "fig, axes = plt.subplots(1, 3, figsize=(18, 5), sharey=True)\n",
    "for i, tipo in enumerate(['little', 'moderate', 'rich']):\n",
    "    datos = df[df['Checking_account'] == tipo]\n",
    "    sns.histplot(data=datos, x='Age', color=colores[tipo], ax=axes[i], edgecolor='black', bins=15)\n",
    "    axes[i].set_title(f'Histograma de Edad - {tipo}')\n",
    "    axes[i].set_xlabel('Edad')\n",
    "    axes[i].set_ylabel('Frecuencia')\n",
    "plt.tight_layout()\n",
    "plt.show()\n",
    "\n",
    "\n"
   ]
  },
  {
   "cell_type": "markdown",
   "id": "db6ad56f",
   "metadata": {},
   "source": [
    "**Análisis de histogramas**  \n",
    "La mayoría de personas con cuentas little se concentran entre los 20 y 30 años con un pico en los 25 años aproximadamente.  \n",
    "En el caso de moderate la distribución se mantiene alta hasta los 37 años mas o menos.  \n",
    "Las cuentas rich son menos frecuentes en todos los tramos y están más repartidas a lo largo de las edades, aunque con presencia más notoria entre los 25 y 45 años.\n",
    "  \n",
    "La cantidad de personas disminuye a medida que aumenta la edad pero a partir de los 60 años en las tres categorías inicia a disminuir con mayor intensidad. Es decir que las cuentas más comunes en edades jóvenes son little y moderate,aunque las rich no muestran una concentración marcada en un rango específicosi no una distribución mas dispersa y sin un patrón como tal."
   ]
  },
  {
   "cell_type": "code",
   "execution_count": 119,
   "id": "854d6699",
   "metadata": {},
   "outputs": [
    {
     "data": {
      "image/png": "[encoded data removed]",
      "text/plain": [
       "<Figure size 800x500 with 1 Axes>"
      ]
     },
     "metadata": {},
     "output_type": "display_data"
    },
    {
     "data": {
      "text/html": [
       "<div>\n",
       "<style scoped>\n",
       "    .dataframe tbody tr th:only-of-type {\n",
       "        vertical-align: middle;\n",
       "    }\n",
       "\n",
       "    .dataframe tbody tr th {\n",
       "        vertical-align: top;\n",
       "    }\n",
       "\n",
       "    .dataframe thead th {\n",
       "        text-align: right;\n",
       "    }\n",
       "</style>\n",
       "<table border=\"1\" class=\"dataframe\">\n",
       "  <thead>\n",
       "    <tr style=\"text-align: right;\">\n",
       "      <th></th>\n",
       "      <th>Checking_account</th>\n",
       "      <th>Q1</th>\n",
       "      <th>Q3</th>\n",
       "      <th>IQR</th>\n",
       "      <th>outlier inferior</th>\n",
       "      <th>outlier superior</th>\n",
       "    </tr>\n",
       "  </thead>\n",
       "  <tbody>\n",
       "    <tr>\n",
       "      <th>0</th>\n",
       "      <td>little</td>\n",
       "      <td>26.0</td>\n",
       "      <td>43.0</td>\n",
       "      <td>17.0</td>\n",
       "      <td>0.50</td>\n",
       "      <td>68.50</td>\n",
       "    </tr>\n",
       "    <tr>\n",
       "      <th>1</th>\n",
       "      <td>moderate</td>\n",
       "      <td>26.0</td>\n",
       "      <td>39.0</td>\n",
       "      <td>13.0</td>\n",
       "      <td>6.50</td>\n",
       "      <td>58.50</td>\n",
       "    </tr>\n",
       "    <tr>\n",
       "      <th>2</th>\n",
       "      <td>rich</td>\n",
       "      <td>26.5</td>\n",
       "      <td>46.0</td>\n",
       "      <td>19.5</td>\n",
       "      <td>-2.75</td>\n",
       "      <td>75.25</td>\n",
       "    </tr>\n",
       "  </tbody>\n",
       "</table>\n",
       "</div>"
      ],
      "text/plain": [
       "  Checking_account    Q1    Q3   IQR  outlier inferior  outlier superior\n",
       "0           little  26.0  43.0  17.0              0.50             68.50\n",
       "1         moderate  26.0  39.0  13.0              6.50             58.50\n",
       "2             rich  26.5  46.0  19.5             -2.75             75.25"
      ]
     },
     "metadata": {},
     "output_type": "display_data"
    }
   ],
   "source": [
    "plt.figure(figsize=(8, 5))\n",
    "sns.boxplot(data=df, x='Checking_account', y='Age', hue='Checking_account', palette=colores, showfliers=False, legend=False)\n",
    "plt.title('Boxplot de Edad por Tipo de Cuenta')\n",
    "plt.xlabel('Tipo de Cuenta')\n",
    "plt.ylabel('Edad')\n",
    "plt.show()\n",
    "\n",
    "outliers(df, 'Checking_account', 'Age')# Im"
   ]
  },
  {
   "cell_type": "markdown",
   "id": "c7c0f51e",
   "metadata": {},
   "source": [
    "**Análisis de boxplot**  \n",
    "Las edades promedio son muy similares entre los tres tipos de cuenta, aunque las rich tienen una mediana un poco más alta que las little y moderate.  \n",
    "En las cuentas rich se observa una mayor dispersión de edades con personas desde los 19 o 20 años hasta más de 70, mientras que las moderate presentan el rango más pequeño.  \n",
    "Las little tienen un rango intercuartílico más amplio que las moderate pero menor que las rich.  \n"
   ]
  },
  {
   "cell_type": "markdown",
   "id": "722fea00",
   "metadata": {},
   "source": [
    "### **Conclusión**\n",
    "\n",
    "Las categorías de cuenta corriente más frecuentes varían según la edad pero en general las little y moderate predominan en los grupos más jóvenes contemplados entre los 20 y 30 años, mientras que las rich son menos comunes y se distribuyen de forma más dispersa a lo largo de las edades.  \n",
    "A medida que aumenta la edad, la cantidad de personas con cualquier tipo de cuenta disminuye siendo más notoria la caída después de los 60 años. Pero teniendo en cuenta los analisis y las graficas se puede decir que el tipo de cuenta no depende de forma marcada de la edad ya que en todos los rangos se encuentran las tres categorías pero con diferentes proporciones.\n"
   ]
  }
 ],
 "metadata": {
  "kernelspec": {
   "display_name": "Entorno",
   "language": "python",
   "name": "python3"
  },
  "language_info": {
   "codemirror_mode": {
    "name": "ipython",
    "version": 3
   },
   "file_extension": ".py",
   "mimetype": "text/x-python",
   "name": "python",
   "nbconvert_exporter": "python",
   "pygments_lexer": "ipython3",
   "version": "3.12.9"
  }
 },
 "nbformat": 4,
 "nbformat_minor": 5
}
